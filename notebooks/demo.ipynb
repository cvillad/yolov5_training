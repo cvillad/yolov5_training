{
 "cells": [
  {
   "cell_type": "markdown",
   "metadata": {
    "colab_type": "text",
    "id": "N3qM6T0W53gh"
   },
   "source": [
    "# Demo for yolov5"
   ]
  },
  {
   "cell_type": "code",
   "execution_count": 1,
   "metadata": {
    "colab": {
     "base_uri": "https://localhost:8080/",
     "height": 53
    },
    "colab_type": "code",
    "id": "wbvMlHd_QwMG",
    "outputId": "669566b2-391f-4596-f290-110e2e177946"
   },
   "outputs": [
    {
     "name": "stdout",
     "output_type": "stream",
     "text": [
      "Setup complete. Using torch 1.6.0 CPU\n"
     ]
    }
   ],
   "source": [
    "import torch\n",
    "from IPython.display import Image, clear_output  # to display images\n",
    "\n",
    "clear_output()\n",
    "print('Setup complete. Using torch %s %s' % (torch.__version__, torch.cuda.get_device_properties(0) if torch.cuda.is_available() else 'CPU'))"
   ]
  },
  {
   "cell_type": "code",
   "execution_count": 9,
   "metadata": {},
   "outputs": [
    {
     "name": "stdout",
     "output_type": "stream",
     "text": [
      "The autoreload extension is already loaded. To reload it, use:\n",
      "  %reload_ext autoreload\n"
     ]
    }
   ],
   "source": [
    "%load_ext autoreload\n",
    "%autoreload 2"
   ]
  },
  {
   "cell_type": "code",
   "execution_count": 54,
   "metadata": {
    "colab": {
     "base_uri": "https://localhost:8080/",
     "height": 488
    },
    "colab_type": "code",
    "id": "zR9ZbuQCH7FX",
    "outputId": "528fcc04-2393-437a-84d2-092becbaefbe",
    "scrolled": false
   },
   "outputs": [
    {
     "name": "stdout",
     "output_type": "stream",
     "text": [
      "Namespace(agnostic_nms=False, augment=False, classes=None, classifier='../src/weights/fastai.pkl', conf_thres=0.4, device='', img_size=640, iou_thres=0.5, output='../data/inference/output', save_txt=False, source='../data/inference/images/1.jpg', update=False, view_img=False, weights=['../src/weights/yolo2.pt'])\n",
      "2020-11-05 15:19:57,570 - INFO - Using CPU\n",
      "2020-11-05 15:19:57,570 - INFO - \n",
      "Fusing layers... \n",
      "2020-11-05 15:19:58,581 - INFO - Model Summary: 188 layers, 2.15494e+07 parameters, 2.00672e+07 gradients\n",
      "image 1/1 /Users/cvillad/Documents/yolov5_training/data/inference/images/1.jpg: [\n",
      "   {\n",
      "      \"probabilities\": {\n",
      "         \"coca_cola_originalx400ml\": 0.943733811378479,\n",
      "         \"coca_cola_originalx250ml\": 0.05623140186071396,\n",
      "         \"spagheti_barilla\": 1.4270685824158136e-05\n",
      "      }\n",
      "   },\n",
      "   {\n",
      "      \"probabilities\": {\n",
      "         \"chicharron_americano_jacksx15g\": 0.9997465014457703,\n",
      "         \"pan_de_queso_largo_la_frontera\": 0.00024570818641223013,\n",
      "         \"yogurt_alpina_finesse_fresax150g\": 2.4936766749306116e-06\n",
      "      }\n",
      "   },\n",
      "   {\n",
      "      \"probabilities\": {\n",
      "         \"arroz_vitamor_dianax500g\": 0.9999998807907104,\n",
      "         \"papas_limon_margaritax110g\": 4.6644501594528265e-08,\n",
      "         \"spagheti_barilla\": 3.316358743177261e-08\n",
      "      }\n",
      "   },\n",
      "   {\n",
      "      \"probabilities\": {\n",
      "         \"pan_de_queso_la_frontera\": 0.9999673366546631,\n",
      "         \"pan_mantequilla_la_fronterax55g\": 2.2796813937020488e-05,\n",
      "         \"pan_de_queso_largo_la_frontera\": 8.741658348299097e-06\n",
      "      }\n",
      "   },\n",
      "   {\n",
      "      \"probabilities\": {\n",
      "         \"chicharron_americano_jacksx15g\": 0.9999988079071045,\n",
      "         \"yogurt_alpina_finesse_fresax150g\": 3.1725519988867745e-07,\n",
      "         \"papas_limon_margaritax39g\": 2.1711647946176527e-07\n",
      "      }\n",
      "   }\n",
      "]\n",
      "512x640 1 arroz_vitamor_dianax500gs, 2 chicharron_americano_jacksx15gs, 1 coca_cola_originalx400mls, 1 pan_de_queso_la_fronteras, Done. (2.487s)\n",
      "Results saved to ../data/inference/output\n",
      "Done. (2.843s)\n"
     ]
    }
   ],
   "source": [
    "!python ../src/detect.py --weights ../src/weights/yolo2.pt --classifier ../src/weights/fastai.pkl --img 640 --conf 0.4 --source ../data/inference/images/1.jpg\n",
    "#Image(filename='inference/output/1.png', width=600)"
   ]
  }
 ],
 "metadata": {
  "accelerator": "GPU",
  "colab": {
   "collapsed_sections": [],
   "include_colab_link": true,
   "name": "YOLOv5 Tutorial",
   "provenance": [],
   "toc_visible": true
  },
  "kernelspec": {
   "display_name": "Python 3",
   "language": "python",
   "name": "python3"
  },
  "language_info": {
   "codemirror_mode": {
    "name": "ipython",
    "version": 3
   },
   "file_extension": ".py",
   "mimetype": "text/x-python",
   "name": "python",
   "nbconvert_exporter": "python",
   "pygments_lexer": "ipython3",
   "version": "3.8.3"
  }
 },
 "nbformat": 4,
 "nbformat_minor": 1
}
