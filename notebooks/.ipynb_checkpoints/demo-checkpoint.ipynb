{
 "cells": [
  {
   "cell_type": "markdown",
   "metadata": {
    "colab_type": "text",
    "id": "N3qM6T0W53gh"
   },
   "source": [
    "# Demo for yolov5"
   ]
  },
  {
   "cell_type": "code",
   "execution_count": 1,
   "metadata": {
    "colab": {
     "base_uri": "https://localhost:8080/",
     "height": 53
    },
    "colab_type": "code",
    "id": "wbvMlHd_QwMG",
    "outputId": "669566b2-391f-4596-f290-110e2e177946"
   },
   "outputs": [
    {
     "name": "stdout",
     "output_type": "stream",
     "text": [
      "Setup complete. Using torch 1.6.0 CPU\n"
     ]
    }
   ],
   "source": [
    "import torch\n",
    "from IPython.display import Image, clear_output  # to display images\n",
    "\n",
    "clear_output()\n",
    "print('Setup complete. Using torch %s %s' % (torch.__version__, torch.cuda.get_device_properties(0) if torch.cuda.is_available() else 'CPU'))"
   ]
  },
  {
   "cell_type": "code",
   "execution_count": 9,
   "metadata": {},
   "outputs": [
    {
     "name": "stdout",
     "output_type": "stream",
     "text": [
      "The autoreload extension is already loaded. To reload it, use:\n",
      "  %reload_ext autoreload\n"
     ]
    }
   ],
   "source": [
    "%load_ext autoreload\n",
    "%autoreload 2"
   ]
  },
  {
   "cell_type": "code",
   "execution_count": 90,
   "metadata": {
    "colab": {
     "base_uri": "https://localhost:8080/",
     "height": 488
    },
    "colab_type": "code",
    "id": "zR9ZbuQCH7FX",
    "outputId": "528fcc04-2393-437a-84d2-092becbaefbe",
    "scrolled": false
   },
   "outputs": [
    {
     "name": "stdout",
     "output_type": "stream",
     "text": [
      "Namespace(agnostic_nms=False, augment=False, classes=None, classifier='../src/weights/resnet18.pkl', classify=True, conf_thres=0.4, device='', img_size=640, iou_thres=0.5, output='inference/output', save_txt=False, source='../data/inference/images/4.jpg', update=False, view_img=False, weights=['../src/weights/single_new.pt'])\n",
      "2020-10-29 09:46:11,900 - INFO - Using CPU\n",
      "2020-10-29 09:46:11,901 - INFO - \n",
      "Fusing layers... \n",
      "2020-10-29 09:46:13,784 - INFO - Model Summary: 188 layers, 2.14686e+07 parameters, 2.00672e+07 gradients\n",
      "image 1/1 /Users/cvillad/Documents/yolov5_training/data/inference/images/4.jpg: lol []\n",
      "Traceback (most recent call last):\n",
      "  File \"../src/detect.py\", line 188, in <module>\n",
      "    detect()\n",
      "  File \"../src/detect.py\", line 92, in detect\n",
      "    top_names = np.array(names)[top_idx]\n",
      "IndexError: arrays used as indices must be of integer (or boolean) type\n"
     ]
    }
   ],
   "source": [
    "!python ../src/detect.py --weights ../src/weights/yolo_new.pt --classify --classifier ../src/weights/resnet18.pkl --img 640 --conf 0.4 --source ../data/inference/images/4.jpg\n",
    "#Image(filename='inference/output/otra.png', width=600)"
   ]
  }
 ],
 "metadata": {
  "accelerator": "GPU",
  "colab": {
   "collapsed_sections": [],
   "include_colab_link": true,
   "name": "YOLOv5 Tutorial",
   "provenance": [],
   "toc_visible": true
  },
  "kernelspec": {
   "display_name": "Python 3",
   "language": "python",
   "name": "python3"
  },
  "language_info": {
   "codemirror_mode": {
    "name": "ipython",
    "version": 3
   },
   "file_extension": ".py",
   "mimetype": "text/x-python",
   "name": "python",
   "nbconvert_exporter": "python",
   "pygments_lexer": "ipython3",
   "version": "3.8.5"
  }
 },
 "nbformat": 4,
 "nbformat_minor": 1
}
