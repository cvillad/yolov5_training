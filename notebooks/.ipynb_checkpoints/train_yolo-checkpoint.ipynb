{
 "cells": [
  {
   "cell_type": "markdown",
   "metadata": {},
   "source": [
    "## Building and pushing image to an EC Repository"
   ]
  },
  {
   "cell_type": "code",
   "execution_count": 68,
   "metadata": {},
   "outputs": [
    {
     "name": "stdout",
     "output_type": "stream",
     "text": [
      "scripts/build_and_push.sh: line 1: ·!/bin/bash: No such file or directory\n",
      "ECR Login\n",
      "WARNING! Your password will be stored unencrypted in /home/ec2-user/.docker/config.json.\n",
      "Configure a credential helper to remove this warning. See\n",
      "https://docs.docker.com/engine/reference/commandline/login/#credentials-store\n",
      "\n",
      "Login Succeeded\n",
      "Building image\n",
      "Sending build context to Docker daemon  2.457GB\n",
      "Step 1/9 : FROM nvcr.io/nvidia/pytorch:20.08-py3\n",
      " ---> c710aa2340b4\n",
      "Step 2/9 : ENV PYTHONDONTWRITEBYTECODE=1\n",
      " ---> Using cache\n",
      " ---> 94b0c23cde42\n",
      "Step 3/9 : ENV PYTHONUNBUFFERED=1\n",
      " ---> Using cache\n",
      " ---> 100a3b619a6d\n",
      "Step 4/9 : RUN apt-get update && apt-get install -y --no-install-recommends nginx curl\n",
      " ---> Using cache\n",
      " ---> 4add9e9c79cf\n",
      "Step 5/9 : WORKDIR /opt/ml/\n",
      " ---> Using cache\n",
      " ---> c1cf43ae8e48\n",
      "Step 6/9 : RUN pip install sagemaker-training\n",
      " ---> Using cache\n",
      " ---> 1b42005f267a\n",
      "Step 7/9 : COPY src/ /opt/ml/code/\n",
      " ---> ff61c5f2dba9\n",
      "Step 8/9 : ENV SAGEMAKER_PROGRAM train\n",
      " ---> Running in 8d0adef391f2\n",
      "Removing intermediate container 8d0adef391f2\n",
      " ---> 3556f8c3e67b\n",
      "Step 9/9 : ENV PATH=\"/opt/ml/code:${PATH}\"\n",
      " ---> Running in 6febddd4391b\n",
      "Removing intermediate container 6febddd4391b\n",
      " ---> 5fe6394f096c\n",
      "Successfully built 5fe6394f096c\n",
      "Successfully tagged train:latest\n",
      "Pushing to ECR\n",
      "The push refers to repository [430127992102.dkr.ecr.us-west-2.amazonaws.com/yolov5_train]\n",
      "\n",
      "\u001b[1Bd3545340: Preparing \n",
      "\u001b[1B424d3df1: Preparing \n",
      "\u001b[1Bcaf63b59: Preparing \n",
      "\u001b[1Bd036e1da: Preparing \n",
      "\u001b[1B535cf0b1: Preparing \n",
      "\u001b[1Bf2fc23be: Preparing \n",
      "\u001b[1Bf1144bfa: Preparing \n",
      "\u001b[1B4a3f2ae3: Preparing \n",
      "\u001b[1B8bfdeee7: Preparing \n",
      "\u001b[1Bbedfd29d: Preparing \n",
      "\u001b[1B3a848754: Preparing \n",
      "\u001b[1B79876d58: Preparing \n",
      "\u001b[1B6cc777e6: Preparing \n",
      "\u001b[1B481d042b: Preparing \n",
      "\u001b[1B2d1617bd: Preparing \n",
      "\u001b[1B5b178613: Preparing \n",
      "\u001b[1B20ece1bb: Preparing \n",
      "\u001b[1Bd45c9936: Preparing \n",
      "\u001b[1Bbcc85b52: Preparing \n",
      "\u001b[1B1df9aa18: Preparing \n",
      "\u001b[1B757968f7: Preparing \n",
      "\u001b[1Bc8ca60ec: Preparing \n",
      "\u001b[1B01b6160f: Preparing \n",
      "\u001b[1B08e715aa: Preparing \n",
      "\u001b[1B38ca324c: Preparing \n",
      "\u001b[1B05efbb85: Preparing \n",
      "\u001b[1Bef29593c: Preparing \n",
      "\u001b[1Bc1b005d0: Preparing \n",
      "\u001b[1B3347c77e: Preparing \n",
      "\u001b[1B73b91957: Preparing \n",
      "\u001b[1B6bba3a54: Preparing \n",
      "\u001b[1Bd305b6fe: Preparing \n",
      "\u001b[1B34539c4b: Preparing \n",
      "\u001b[1B8e883ce0: Preparing \n",
      "\u001b[1B3105ea49: Preparing \n",
      "\u001b[1Bfd860433: Preparing \n",
      "\u001b[1B196d29b9: Preparing \n",
      "\u001b[1Bdc9d77d9: Preparing \n",
      "\u001b[1B87a0f336: Preparing \n",
      "\u001b[1B76287df5: Preparing \n",
      "\u001b[1B7aea68cd: Preparing \n",
      "\u001b[1B1ccf7ee0: Preparing \n",
      "\u001b[1B51c2f8ad: Preparing \n",
      "\u001b[1B2a1a6205: Preparing \n",
      "\u001b[1B546ec635: Preparing \n",
      "\u001b[1B8b3c8971: Preparing \n",
      "\u001b[1B3a2b059b: Preparing \n",
      "\u001b[1B30055b29: Preparing \n",
      "\u001b[1Bf1b5f44c: Preparing \n",
      "\u001b[1Bb917ef50: Preparing \n",
      "\u001b[1B3c4877ef: Preparing \n",
      "\u001b[1Bb71a5be7: Preparing \n",
      "\u001b[1B4487ecb7: Preparing \n",
      "\u001b[1B5173a9ae: Preparing \n",
      "\u001b[1Bc169ba53: Preparing \n",
      "\u001b[1B36b4dc3d: Preparing \n",
      "\u001b[1B877f8a1f: Preparing \n",
      "\u001b[1B146f5dbd: Preparing \n",
      "\u001b[1Bf9a74649: Preparing \n",
      "\u001b[1Bda143c91: Preparing \n",
      "\u001b[1B287e1f04: Preparing \n",
      "\u001b[2B287e1f04: Layer already exists 9kB8A\u001b[2K\u001b[62A\u001b[2K\u001b[52A\u001b[2K\u001b[47A\u001b[2K\u001b[45A\u001b[2K\u001b[40A\u001b[2K\u001b[34A\u001b[2K\u001b[32A\u001b[2K\u001b[27A\u001b[2K\u001b[23A\u001b[2K\u001b[17A\u001b[2K\u001b[9A\u001b[2K\u001b[5A\u001b[2Klatest: digest: sha256:f6ea4bb0bae03b4f03bd47d5ab58ec631be848fa631fb5dd16d0bb482bae88fa size: 13338\n"
     ]
    }
   ],
   "source": [
    "!cd .. && scripts/build_and_push.sh"
   ]
  },
  {
   "cell_type": "markdown",
   "metadata": {},
   "source": [
    "## Sagemaker config"
   ]
  },
  {
   "cell_type": "code",
   "execution_count": 69,
   "metadata": {},
   "outputs": [],
   "source": [
    "from sagemaker.session import get_execution_role, Session\n",
    "import os\n",
    "\n",
    "sagemaker_role = get_execution_role()\n",
    "sagemaker_session = Session()"
   ]
  },
  {
   "cell_type": "code",
   "execution_count": 70,
   "metadata": {},
   "outputs": [
    {
     "name": "stdout",
     "output_type": "stream",
     "text": [
      "Training Job name : test-training-job-2020-09-22-22-37-44\n",
      "S3 uri input: s3://sagemaker-us-west-2-430127992102/TiendaApp/data/\n",
      "S3 uri output: s3://sagemaker-us-west-2-430127992102/TiendaApp/model/\n",
      "image uri: 430127992102.dkr.ecr.us-west-2.amazonaws.com/yolov5_train\n"
     ]
    }
   ],
   "source": [
    "from time import gmtime, strftime\n",
    "\n",
    "bucket_name = sagemaker_session.default_bucket()\n",
    "key_name = \"TiendaApp\"\n",
    "s3_uri_data = \"s3://{}/{}/{}/\".format(bucket_name, key_name, \"data\")\n",
    "s3_uri_output = \"s3://{}/{}/{}/\".format(bucket_name, key_name, \"model\")\n",
    "s3_uri_checkpoint = \"s3://{}/{}/{}\".format(bucket_name, key_name, \"checkpoints\")\n",
    "s3_output_path_tensorboard = \"s3://{}/{}/{}\".format(bucket_name, key_name, \"tensorboard\")\n",
    "s3_uri_input_model = \"s3://{}/{}/{}/\".format(bucket_name, key_name, \"input\")\n",
    "\n",
    "account = sagemaker_session.boto_session.client('sts').get_caller_identity()['Account']\n",
    "region = sagemaker_session.boto_session.region_name\n",
    "image_name = \"yolov5_train\"\n",
    "image_uri = \"{0}.dkr.ecr.{1}.amazonaws.com/{2}\".format(account, region, image_name)\n",
    "\n",
    "base_job_name = \"test-training-job-{}\".format(strftime(\"%Y-%m-%d-%H-%M-%S\", gmtime()))\n",
    "os.environ[\"account\"] = account\n",
    "os.environ[\"s3_uri\"] = s3_uri_data\n",
    "\n",
    "print(\"Training Job name : {}\".format(base_job_name))\n",
    "print(\"S3 uri input: {}\".format(s3_uri_data))\n",
    "print(\"S3 uri output: {}\".format(s3_uri_output))\n",
    "print(\"image uri: {}\".format(image_uri))\n",
    "#!aws s3 ls $s3_uri\n",
    "#!aws ecr describe-repositories --registry-id $account"
   ]
  },
  {
   "cell_type": "markdown",
   "metadata": {},
   "source": [
    "## Starting a sagemaker training job"
   ]
  },
  {
   "cell_type": "code",
   "execution_count": null,
   "metadata": {},
   "outputs": [
    {
     "name": "stderr",
     "output_type": "stream",
     "text": [
      "Parameter image_name will be renamed to image_uri in SageMaker Python SDK v2.\n",
      "'s3_input' class will be renamed to 'TrainingInput' in SageMaker Python SDK v2.\n",
      "'s3_input' class will be renamed to 'TrainingInput' in SageMaker Python SDK v2.\n"
     ]
    },
    {
     "name": "stdout",
     "output_type": "stream",
     "text": [
      "2020-09-22 22:21:21 Starting - Starting the training job...\n",
      "2020-09-22 22:21:23 Starting - Launching requested ML instances......\n",
      "2020-09-22 22:22:33 Starting - Preparing the instances for training...\n",
      "2020-09-22 22:23:13 Downloading - Downloading input data..."
     ]
    }
   ],
   "source": [
    "from sagemaker.estimator import Estimator\n",
    "from sagemaker.debugger import TensorBoardOutputConfig\n",
    "\n",
    "tensorboard_output_config = TensorBoardOutputConfig(\n",
    "    s3_output_path=s3_output_path_tensorboard,\n",
    "    container_local_output_path=\"/opt/ml/output/tensorboard\"\n",
    ")\n",
    "\n",
    "hyperparameters = {\"epochs\": 3, \"batch-size\": 32, \"weights\": \"/opt/ml/input/data/model/yolov5s.pt\"}\n",
    "\n",
    "metric_definitions = [{\"Name\": \"train:error\", \"Regex\": \"\\S*train_error=([0-9\\.]+)\"},\n",
    "                     {\"Name\": \"val:error\", \"Regex\": \"\\S*val_error=([0-9\\\\.]+)\"}]\n",
    "checkpoint_local_path = \"/opt/ml/checkpoints/\"\n",
    "\n",
    "yolov3_estimator = Estimator(image_name=image_uri, \n",
    "                            role=sagemaker_role,\n",
    "                            train_max_run=172800,\n",
    "                            output_path=s3_uri_output,\n",
    "                            train_instance_count=1,\n",
    "                            train_instance_type=\"ml.g4dn.xlarge\",\n",
    "                            #train_instance_type=\"ml.m5.xlarge\",\n",
    "                            train_volume_size=35,\n",
    "                            model_uri = s3_uri_input_model,\n",
    "                            model_channel_name = 'model',\n",
    "                            sagemaker_session=sagemaker_session,\n",
    "                            tensorboard_output_config = tensorboard_output_config,\n",
    "                            enable_sagemaker_metrics = True,\n",
    "                            metric_definitions = metric_definitions,\n",
    "                            checkpoint_s3_uri = s3_uri_checkpoint,\n",
    "                            checkpoint_local_path = checkpoint_local_path,\n",
    "                            base_job_name = base_job_name,\n",
    "                            hyperparameters = hyperparameters,\n",
    "                            tags=[{\"Key\": \"Name\", \"Value\": \"test-job\"},\n",
    "                             {\"Key\": \"Description\", \"Value\": \"Test training job\"}])\n",
    "\n",
    "\n",
    "yolov3_estimator.fit(inputs={\"training\": s3_uri_data}, job_name=base_job_name, wait=True)"
   ]
  }
 ],
 "metadata": {
  "kernelspec": {
   "display_name": "conda_python3",
   "language": "python",
   "name": "conda_python3"
  },
  "language_info": {
   "codemirror_mode": {
    "name": "ipython",
    "version": 3
   },
   "file_extension": ".py",
   "mimetype": "text/x-python",
   "name": "python",
   "nbconvert_exporter": "python",
   "pygments_lexer": "ipython3",
   "version": "3.6.10"
  }
 },
 "nbformat": 4,
 "nbformat_minor": 4
}
